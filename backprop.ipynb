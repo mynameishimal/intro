{
 "cells": [
  {
   "cell_type": "code",
   "execution_count": 125,
   "metadata": {},
   "outputs": [],
   "source": [
    "i1=.05\n",
    "i2=.1\n",
    "w1=.15\n",
    "w2=.2\n",
    "w3=.25\n",
    "w4=.3\n",
    "w5=.4\n",
    "w6=.45\n",
    "w7=.5\n",
    "w8=.55\n",
    "b1=.35\n",
    "b2=.60\n",
    "targeto1=.01\n",
    "targeto2=.99\n",
    "learningRate=.5\n"
   ]
  },
  {
   "cell_type": "markdown",
   "metadata": {},
   "source": [
    "forward pass"
   ]
  },
  {
   "cell_type": "code",
   "execution_count": 126,
   "metadata": {},
   "outputs": [
    {
     "name": "stdout",
     "output_type": "stream",
     "text": [
      "0.3775\n",
      "0.5932699921071872\n"
     ]
    }
   ],
   "source": [
    "netInputh1=w1*i1+w2*i2+b1\n",
    "netInputh2=w3*i1+w4*i2+b1\n",
    "outputh1=1/(1+math.exp(-1*netInputh1))\n",
    "outputh2=1/(1+math.exp(-1*netInputh2))\n",
    "\n",
    "print(netInputh1)\n",
    "print(outputh1)"
   ]
  },
  {
   "cell_type": "code",
   "execution_count": 127,
   "metadata": {},
   "outputs": [
    {
     "name": "stdout",
     "output_type": "stream",
     "text": [
      "1.10590596705977\n",
      "1.2249214040964653\n",
      "0.7513436477138247\n",
      "0.7729061738799942\n"
     ]
    }
   ],
   "source": [
    "netInputo1=outputh1*w5+outputh2*w6+b2\n",
    "netInputo2=outputh1*w7+outputh2*w8+b2\n",
    "outputo1=1/(1+2.718**(-1*netInputo1))\n",
    "outputo2=1/(1+2.718**(-1*netInputo2))\n",
    "\n",
    "print(netInputo1)\n",
    "print(netInputo2)\n",
    "print(outputo1)\n",
    "print(outputo2)"
   ]
  },
  {
   "cell_type": "code",
   "execution_count": 128,
   "metadata": {},
   "outputs": [
    {
     "name": "stdout",
     "output_type": "stream",
     "text": [
      "0.29836006667253134\n"
     ]
    }
   ],
   "source": [
    "errore1=.5*(outputo1-targeto1)**2\n",
    "errore2=.5*(outputo2-targeto2)**2\n",
    "totalError=errore1+errore2\n",
    "print(totalError)"
   ]
  },
  {
   "cell_type": "markdown",
   "metadata": {},
   "source": [
    "backwards pass"
   ]
  },
  {
   "cell_type": "code",
   "execution_count": 136,
   "metadata": {},
   "outputs": [
    {
     "name": "stdout",
     "output_type": "stream",
     "text": [
      "w5new 0.35891529864924954\n",
      "w6new 0.40866499781215915\n",
      "w7new 0.5113032143395232\n",
      "w8new 0.5613720770528442\n"
     ]
    }
   ],
   "source": [
    "# changeEtotal=-(targeto1-outputo1)\n",
    "# changeOuto1 = outputo1*(1-outputo1)\n",
    "# changeOuto2 = outputo2*(1-outputo2)\n",
    "# changeo1tow5=outputh1*w5**0+0\n",
    "# changeEtotaltow5=changeEtotal*changeOuto1*changeo1tow5\n",
    "# print(changeEtotaltow5)\n",
    "# w5new=w5-learningRate*changeEtotaltow5\n",
    "dEdO1=-1*(targeto1-outputo1)\n",
    "dEdO2=-1*(targeto2-outputo2)\n",
    "dO1dNet=(outputo1)*(1-outputo1)\n",
    "dO2dNet=(outputo2)*(1-outputo2)\n",
    "nodedeltao1=dO1dNet*dEdO1\n",
    "nodedeltao2=dO2dNet*dEdO2\n",
    "\n",
    "changeEtotaltow5=nodedeltao1*outputh1\n",
    "w5new=w5-learningRate*changeEtotaltow5\n",
    "\n",
    "changeEtotaltow6=nodedeltao1*outputh2\n",
    "changeEtotaltow7=nodedeltao2*outputh1\n",
    "changeEtotaltow8=nodedeltao2*outputh2\n",
    "\n",
    "w6new=w6-learningRate*changeEtotaltow6\n",
    "w7new=w7-learningRate*changeEtotaltow7\n",
    "w8new=w8-learningRate*changeEtotaltow8\n",
    "print(\"w5new\", w5new)\n",
    "print(\"w6new\", w6new)\n",
    "print(\"w7new\", w7new)\n",
    "print(\"w8new\", w8new)"
   ]
  },
  {
   "cell_type": "markdown",
   "metadata": {},
   "source": [
    "hidden layer (backwards pass continued)"
   ]
  },
  {
   "cell_type": "code",
   "execution_count": 144,
   "metadata": {},
   "outputs": [
    {
     "name": "stdout",
     "output_type": "stream",
     "text": [
      "0.0004\n"
     ]
    }
   ],
   "source": [
    "w5=w5-learningRate*(changeEtotaltow5)\n",
    "changeEtotaltow1=.0004\n",
    "print(changeEtotaltow1)\n",
    "douth1dneth1=(outputh1)*(1-outputh1)\n"
   ]
  },
  {
   "cell_type": "code",
   "execution_count": 146,
   "metadata": {},
   "outputs": [
    {
     "name": "stdout",
     "output_type": "stream",
     "text": [
      "0.19963010668758238\n",
      "0.2498150533437912\n",
      "0.2996301066875824\n"
     ]
    }
   ],
   "source": [
    "dEo1douth1=w5*dO1dNet*dEdO1\n",
    "dEo2douth1=w7*dO2dNet*dEdO2\n",
    "dEdouth1=dEo1douth1+dEo2douth1\n",
    "dEdw1=dEdouth1*douth1dneth1*(i1)\n",
    "w1new = w1-learningRate*dEdw1\n",
    "dEdw2=dEdouth1*douth1dneth1*(i2)\n",
    "w2new = w2 -learningRate*dEdw2\n",
    "\n",
    "dEo1douth2=w6*dO1dNet*dEdO1\n",
    "dEo2douth2=w8*dO2dNet*dEdO2\n",
    "dEdouth2=dEo1douth2+dEo2douth2\n",
    "dEdw3=dEdouth1*douth1dneth1*(i1)\n",
    "dEdw4=dEdouth1*douth1dneth1*(i2)\n",
    "w3new = w3 - learningRate*dEdw3\n",
    "w4new = w4 - learningRate*dEdw4\n",
    "print(w2new)\n",
    "print(w3new)\n",
    "print(w4new)\n"
   ]
  }
 ],
 "metadata": {
  "kernelspec": {
   "display_name": "Python 3.10.4 ('intro')",
   "language": "python",
   "name": "python3"
  },
  "language_info": {
   "codemirror_mode": {
    "name": "ipython",
    "version": 3
   },
   "file_extension": ".py",
   "mimetype": "text/x-python",
   "name": "python",
   "nbconvert_exporter": "python",
   "pygments_lexer": "ipython3",
   "version": "3.10.4"
  },
  "orig_nbformat": 4,
  "vscode": {
   "interpreter": {
    "hash": "a299e356d8eae155103e255cce8cd1a53ffaf121c427844741b59bcd3e3d328e"
   }
  }
 },
 "nbformat": 4,
 "nbformat_minor": 2
}
